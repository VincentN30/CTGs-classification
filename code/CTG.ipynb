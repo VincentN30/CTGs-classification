{
 "cells": [
  {
   "cell_type": "code",
   "execution_count": 1,
   "id": "c866a4ca",
   "metadata": {},
   "outputs": [],
   "source": [
    "import pandas as pd\n",
    "import numpy as np"
   ]
  },
  {
   "cell_type": "code",
   "execution_count": 2,
   "id": "855ab525",
   "metadata": {},
   "outputs": [],
   "source": [
    "train_file_path = 'train.xlsx'\n",
    "test_file_path = 'test.xlsx'\n",
    "\n",
    "train_df = pd.read_excel(train_file_path)\n",
    "test_df = pd.read_excel(test_file_path)\n",
    "\n",
    "# print(train_df)\n",
    "# print(test_df)"
   ]
  },
  {
   "cell_type": "code",
   "execution_count": 3,
   "id": "5fba7dd0",
   "metadata": {},
   "outputs": [],
   "source": [
    "train_df.columns = train_df.iloc[0]\n",
    "train_df = train_df[1:]\n",
    "test_df.columns = test_df.iloc[0]\n",
    "test_df = test_df[1:]\n",
    "# print(train_df)\n",
    "# print(test_df)"
   ]
  },
  {
   "cell_type": "code",
   "execution_count": 4,
   "id": "ea9a02f4",
   "metadata": {},
   "outputs": [],
   "source": [
    "train_df = train_df.iloc[:, 10:]\n",
    "test_df = test_df.iloc[:, 10:]\n",
    "# print(train_df)\n",
    "# print(test_df)"
   ]
  },
  {
   "cell_type": "code",
   "execution_count": 5,
   "id": "43a8618e",
   "metadata": {},
   "outputs": [],
   "source": [
    "train_df = train_df.iloc[:, :-1]\n",
    "test_df = test_df.iloc[:,:-1]\n",
    "# print(train_df)\n",
    "# print(test_df)"
   ]
  },
  {
   "cell_type": "code",
   "execution_count": 6,
   "id": "7e235c53",
   "metadata": {},
   "outputs": [
    {
     "name": "stdout",
     "output_type": "stream",
     "text": [
      "<class 'pandas.core.frame.DataFrame'>\n",
      "RangeIndex: 1700 entries, 1 to 1700\n",
      "Data columns (total 22 columns):\n",
      " #   Column    Non-Null Count  Dtype \n",
      "---  ------    --------------  ----- \n",
      " 0   LB        1700 non-null   object\n",
      " 1   AC        1700 non-null   object\n",
      " 2   FM        1700 non-null   object\n",
      " 3   UC        1700 non-null   object\n",
      " 4   DL        1700 non-null   object\n",
      " 5   DS        1700 non-null   object\n",
      " 6   DP        1700 non-null   object\n",
      " 7   ASTV      1700 non-null   object\n",
      " 8   MSTV      1700 non-null   object\n",
      " 9   ALTV      1700 non-null   object\n",
      " 10  MLTV      1700 non-null   object\n",
      " 11  Width     1700 non-null   object\n",
      " 12  Min       1700 non-null   object\n",
      " 13  Max       1700 non-null   object\n",
      " 14  Nmax      1700 non-null   object\n",
      " 15  Nzeros    1700 non-null   object\n",
      " 16  Mode      1700 non-null   object\n",
      " 17  Mean      1700 non-null   object\n",
      " 18  Median    1700 non-null   object\n",
      " 19  Variance  1700 non-null   object\n",
      " 20  Tendency  1700 non-null   object\n",
      " 21  NSP       1700 non-null   object\n",
      "dtypes: object(22)\n",
      "memory usage: 292.3+ KB\n",
      "<class 'pandas.core.frame.DataFrame'>\n",
      "RangeIndex: 426 entries, 1 to 426\n",
      "Data columns (total 22 columns):\n",
      " #   Column    Non-Null Count  Dtype \n",
      "---  ------    --------------  ----- \n",
      " 0   LB        426 non-null    object\n",
      " 1   AC        426 non-null    object\n",
      " 2   FM        426 non-null    object\n",
      " 3   UC        426 non-null    object\n",
      " 4   DL        426 non-null    object\n",
      " 5   DS        426 non-null    object\n",
      " 6   DP        426 non-null    object\n",
      " 7   ASTV      426 non-null    object\n",
      " 8   MSTV      426 non-null    object\n",
      " 9   ALTV      426 non-null    object\n",
      " 10  MLTV      426 non-null    object\n",
      " 11  Width     426 non-null    object\n",
      " 12  Min       426 non-null    object\n",
      " 13  Max       426 non-null    object\n",
      " 14  Nmax      426 non-null    object\n",
      " 15  Nzeros    426 non-null    object\n",
      " 16  Mode      426 non-null    object\n",
      " 17  Mean      426 non-null    object\n",
      " 18  Median    426 non-null    object\n",
      " 19  Variance  426 non-null    object\n",
      " 20  Tendency  426 non-null    object\n",
      " 21  NSP       426 non-null    object\n",
      "dtypes: object(22)\n",
      "memory usage: 73.3+ KB\n"
     ]
    }
   ],
   "source": [
    "train_df.info()\n",
    "test_df.info()"
   ]
  },
  {
   "cell_type": "code",
   "execution_count": 7,
   "id": "63287e36",
   "metadata": {},
   "outputs": [],
   "source": [
    "from sklearn.tree import DecisionTreeClassifier\n",
    "from sklearn.metrics import classification_report, roc_auc_score"
   ]
  },
  {
   "cell_type": "code",
   "execution_count": 8,
   "id": "44b41a52",
   "metadata": {},
   "outputs": [],
   "source": [
    "X_train = train_df.drop('NSP', axis=1) \n",
    "X_train = X_train.astype(float)\n",
    "y_train = train_df['NSP'].astype(int)  \n",
    "\n",
    "X_test = test_df.drop('NSP', axis=1) \n",
    "X_test = X_test.astype(float)\n",
    "y_test = test_df['NSP'].astype(int)  "
   ]
  },
  {
   "cell_type": "code",
   "execution_count": 9,
   "id": "d78f859c",
   "metadata": {},
   "outputs": [],
   "source": [
    "from sklearn.preprocessing import MinMaxScaler\n",
    "scaler = MinMaxScaler()\n",
    "X_train = pd.DataFrame(scaler.fit_transform(X_train), columns=X_train.columns)\n",
    "X_test = pd.DataFrame(scaler.fit_transform(X_test), columns=X_test.columns)"
   ]
  },
  {
   "cell_type": "code",
   "execution_count": 10,
   "id": "c6008071",
   "metadata": {},
   "outputs": [
    {
     "name": "stdout",
     "output_type": "stream",
     "text": [
      "0           LB        AC        FM        UC   DL   DS   DP      ASTV  \\\n",
      "0     0.925926  0.000000  0.002681  0.345361  0.0  0.0  0.0  0.569444   \n",
      "1     0.259259  0.648755  0.012147  0.167640  0.0  0.0  0.0  0.388889   \n",
      "2     0.277778  0.606516  0.018251  0.097953  0.0  0.0  0.0  0.375000   \n",
      "3     0.277778  0.586619  0.014122  0.075792  0.0  0.0  0.0  0.375000   \n",
      "4     0.277778  0.590506  0.010769  0.138716  0.0  0.0  0.0  0.375000   \n",
      "...        ...       ...       ...       ...  ...  ...  ...       ...   \n",
      "1695  0.629630  0.000000  0.000000  0.497525  0.0  0.0  0.0  0.930556   \n",
      "1696  0.629630  0.040168  0.000000  0.467080  0.0  0.0  0.0  0.916667   \n",
      "1697  0.629630  0.050840  0.000000  0.459804  0.0  0.0  0.0  0.930556   \n",
      "1698  0.629630  0.035205  0.000000  0.409369  0.0  0.0  0.0  0.916667   \n",
      "1699  0.666667  0.083776  0.003361  0.541195  0.0  0.0  0.0  0.861111   \n",
      "\n",
      "0         MSTV      ALTV  ...     Width       Min       Max      Nmax  Nzeros  \\\n",
      "0     0.098361  0.032967  ...  0.497175  0.481481  0.612069  0.166667   0.000   \n",
      "1     0.180328  0.000000  ...  0.485876  0.166667  0.301724  0.277778   0.125   \n",
      "2     0.180328  0.000000  ...  0.536723  0.481481  0.672414  0.388889   0.125   \n",
      "3     0.180328  0.000000  ...  0.728814  0.166667  0.672414  0.444444   0.125   \n",
      "4     0.163934  0.000000  ...  0.468927  0.166667  0.275862  0.388889   0.125   \n",
      "...        ...       ...  ...       ...       ...       ...       ...     ...   \n",
      "1695  0.000000  0.274725  ...  0.209040  0.805556  0.474138  0.222222   0.000   \n",
      "1696  0.032787  0.241758  ...  0.355932  0.490741  0.405172  0.333333   0.000   \n",
      "1697  0.032787  0.219780  ...  0.361582  0.490741  0.413793  0.277778   0.000   \n",
      "1698  0.032787  0.296703  ...  0.355932  0.490741  0.405172  0.333333   0.000   \n",
      "1699  0.032787  0.395604  ...  0.220339  0.620370  0.318966  0.111111   0.125   \n",
      "\n",
      "0         Mode      Mean    Median  Variance  Tendency  \n",
      "0     0.801587  0.788991  0.770642  0.011152       0.5  \n",
      "1     0.579365  0.559633  0.541284  0.033457       1.0  \n",
      "2     0.579365  0.532110  0.504587  0.029740       0.0  \n",
      "3     0.579365  0.541284  0.522936  0.029740       0.5  \n",
      "4     0.579365  0.550459  0.532110  0.029740       1.0  \n",
      "...        ...       ...       ...       ...       ...  \n",
      "1695  0.738095  0.706422  0.688073  0.007435       0.5  \n",
      "1696  0.730159  0.688073  0.678899  0.011152       1.0  \n",
      "1697  0.738095  0.688073  0.688073  0.014870       1.0  \n",
      "1698  0.730159  0.678899  0.678899  0.014870       1.0  \n",
      "1699  0.674603  0.642202  0.623853  0.003717       0.5  \n",
      "\n",
      "[1700 rows x 21 columns]\n",
      "1       1\n",
      "2       1\n",
      "3       1\n",
      "4       1\n",
      "5       1\n",
      "       ..\n",
      "1696    2\n",
      "1697    2\n",
      "1698    2\n",
      "1699    2\n",
      "1700    1\n",
      "Name: NSP, Length: 1700, dtype: int32\n"
     ]
    }
   ],
   "source": [
    "print(X_train)\n",
    "print(y_train)"
   ]
  },
  {
   "cell_type": "code",
   "execution_count": 11,
   "id": "6af4af04",
   "metadata": {},
   "outputs": [
    {
     "data": {
      "text/plain": [
       "DecisionTreeClassifier(random_state=42)"
      ]
     },
     "execution_count": 11,
     "metadata": {},
     "output_type": "execute_result"
    }
   ],
   "source": [
    "model = DecisionTreeClassifier(random_state=42)\n",
    "model.fit(X_train, y_train)"
   ]
  },
  {
   "cell_type": "code",
   "execution_count": 12,
   "id": "aca883c0",
   "metadata": {},
   "outputs": [],
   "source": [
    "train_y_perd = model.predict(X_train)\n",
    "report = classification_report(y_train, train_y_perd,digits=4)\n",
    "macro_auc = roc_auc_score(pd.get_dummies(y_train), pd.get_dummies(train_y_perd), multi_class='ovr', average='macro')"
   ]
  },
  {
   "cell_type": "code",
   "execution_count": 13,
   "id": "348a019e",
   "metadata": {},
   "outputs": [
    {
     "name": "stdout",
     "output_type": "stream",
     "text": [
      "              precision    recall  f1-score   support\n",
      "\n",
      "           1     0.9986    1.0000    0.9993      1409\n",
      "           2     1.0000    0.9870    0.9935       154\n",
      "           3     1.0000    1.0000    1.0000       137\n",
      "\n",
      "    accuracy                         0.9988      1700\n",
      "   macro avg     0.9995    0.9957    0.9976      1700\n",
      "weighted avg     0.9988    0.9988    0.9988      1700\n",
      "\n",
      "0.9966900224632184\n"
     ]
    }
   ],
   "source": [
    "print(report)\n",
    "print(macro_auc)"
   ]
  },
  {
   "cell_type": "code",
   "execution_count": 14,
   "id": "337ddf55",
   "metadata": {},
   "outputs": [],
   "source": [
    "y_pred = model.predict(X_test)\n",
    "rep = classification_report(y_test,y_pred,digits=4)\n",
    "auc = roc_auc_score(pd.get_dummies(y_test), pd.get_dummies(y_pred), multi_class='ovr', average='macro')"
   ]
  },
  {
   "cell_type": "code",
   "execution_count": 15,
   "id": "3ac35442",
   "metadata": {},
   "outputs": [
    {
     "name": "stdout",
     "output_type": "stream",
     "text": [
      "              precision    recall  f1-score   support\n",
      "\n",
      "           1     0.8078    0.8374    0.8224       246\n",
      "           2     0.7519    0.7092    0.7299       141\n",
      "           3     0.6579    0.6410    0.6494        39\n",
      "\n",
      "    accuracy                         0.7770       426\n",
      "   macro avg     0.7392    0.7292    0.7339       426\n",
      "weighted avg     0.7756    0.7770    0.7759       426\n",
      "\n",
      "0.7943400743321378\n"
     ]
    }
   ],
   "source": [
    "print(rep)\n",
    "print(auc)"
   ]
  },
  {
   "cell_type": "code",
   "execution_count": 16,
   "id": "22220cdf",
   "metadata": {},
   "outputs": [],
   "source": [
    "from sklearn.preprocessing import LabelEncoder\n",
    "le = LabelEncoder()\n",
    "y_train = le.fit_transform(y_train)\n",
    "y_test = le.fit_transform(y_test)"
   ]
  },
  {
   "cell_type": "code",
   "execution_count": 17,
   "id": "6bdca5fa",
   "metadata": {},
   "outputs": [
    {
     "data": {
      "text/plain": [
       "XGBClassifier(base_score=0.5, booster='gbtree', callbacks=None,\n",
       "              colsample_bylevel=1, colsample_bynode=1, colsample_bytree=1,\n",
       "              early_stopping_rounds=None, enable_categorical=False,\n",
       "              eval_metric=None, gamma=0, gpu_id=-1, grow_policy='depthwise',\n",
       "              importance_type=None, interaction_constraints='',\n",
       "              learning_rate=0.1, max_bin=256, max_cat_to_onehot=4,\n",
       "              max_delta_step=0, max_depth=3, max_leaves=0, min_child_weight=1,\n",
       "              missing=nan, monotone_constraints='()', n_estimators=400,\n",
       "              n_jobs=0, num_parallel_tree=1, objective='multi:softprob',\n",
       "              predictor='auto', random_state=0, reg_alpha=0, ...)"
      ]
     },
     "execution_count": 17,
     "metadata": {},
     "output_type": "execute_result"
    }
   ],
   "source": [
    "from xgboost import XGBClassifier\n",
    "XGB = XGBClassifier(n_estimators = 400, learning_rate = 0.1, max_depth = 3)\n",
    "XGB.fit(X_train,y_train)"
   ]
  },
  {
   "cell_type": "code",
   "execution_count": 18,
   "id": "9d495fd0",
   "metadata": {},
   "outputs": [],
   "source": [
    "train_y_perd = XGB.predict(X_train)\n",
    "report = classification_report(y_train, train_y_perd,digits=4)\n",
    "macro_auc = roc_auc_score(pd.get_dummies(y_train), pd.get_dummies(train_y_perd), multi_class='ovr', average='macro')"
   ]
  },
  {
   "cell_type": "code",
   "execution_count": 19,
   "id": "4d057d2b",
   "metadata": {},
   "outputs": [
    {
     "name": "stdout",
     "output_type": "stream",
     "text": [
      "              precision    recall  f1-score   support\n",
      "\n",
      "           0     0.9986    1.0000    0.9993      1409\n",
      "           1     1.0000    0.9870    0.9935       154\n",
      "           2     1.0000    1.0000    1.0000       137\n",
      "\n",
      "    accuracy                         0.9988      1700\n",
      "   macro avg     0.9995    0.9957    0.9976      1700\n",
      "weighted avg     0.9988    0.9988    0.9988      1700\n",
      "\n",
      "0.9966900224632184\n"
     ]
    }
   ],
   "source": [
    "print(report)\n",
    "print(macro_auc)"
   ]
  },
  {
   "cell_type": "code",
   "execution_count": 20,
   "id": "6782b32c",
   "metadata": {},
   "outputs": [],
   "source": [
    "y_pred = XGB.predict(X_test)\n",
    "rep = classification_report(y_test,y_pred,digits=4)\n",
    "auc = roc_auc_score(pd.get_dummies(y_test), pd.get_dummies(y_pred), multi_class='ovr', average='macro')"
   ]
  },
  {
   "cell_type": "code",
   "execution_count": 22,
   "id": "70be54aa",
   "metadata": {},
   "outputs": [],
   "source": [
    "from sklearn.metrics import confusion_matrix\n",
    "cm1=confusion_matrix(y_train, train_y_perd)\n",
    "cm2=confusion_matrix(y_test,y_pred)"
   ]
  },
  {
   "cell_type": "code",
   "execution_count": 25,
   "id": "4375038b",
   "metadata": {},
   "outputs": [
    {
     "data": {
      "image/png": "[encoded data removed]",
      "text/plain": [
       "<Figure size 800x600 with 2 Axes>"
      ]
     },
     "metadata": {},
     "output_type": "display_data"
    }
   ],
   "source": [
    "import matplotlib.pyplot as plt\n",
    "import seaborn as sns\n",
    "plt.figure(figsize=(8, 6))\n",
    "sns.heatmap(cm1, annot=True, fmt='d', cmap='Blues')\n",
    "plt.title('Confusion Matrix')\n",
    "plt.xlabel('Predicted')\n",
    "plt.ylabel('Actual')\n",
    "plt.show()"
   ]
  },
  {
   "cell_type": "code",
   "execution_count": 26,
   "id": "61d1e66b",
   "metadata": {},
   "outputs": [
    {
     "data": {
      "image/png": "[encoded data removed]",
      "text/plain": [
       "<Figure size 800x600 with 2 Axes>"
      ]
     },
     "metadata": {},
     "output_type": "display_data"
    }
   ],
   "source": [
    "import matplotlib.pyplot as plt\n",
    "import seaborn as sns\n",
    "plt.figure(figsize=(8, 6))\n",
    "sns.heatmap(cm2, annot=True, fmt='d', cmap='Blues')\n",
    "plt.title('Confusion Matrix')\n",
    "plt.xlabel('Predicted')\n",
    "plt.ylabel('Actual')\n",
    "plt.show()"
   ]
  },
  {
   "cell_type": "code",
   "execution_count": 27,
   "id": "a8ece0df",
   "metadata": {},
   "outputs": [
    {
     "name": "stdout",
     "output_type": "stream",
     "text": [
      "1.0\n",
      "0.9065040650406504\n"
     ]
    }
   ],
   "source": [
    "print(cm1[0, 0] / (cm1[0, 0] + cm1[0, 1] + cm1[0, 2]))\n",
    "print(cm2[0, 0] / (cm2[0, 0] + cm2[0, 1] + cm2[0, 2]))"
   ]
  },
  {
   "cell_type": "code",
   "execution_count": 31,
   "id": "49249a86",
   "metadata": {},
   "outputs": [
    {
     "name": "stdout",
     "output_type": "stream",
     "text": [
      "              precision    recall  f1-score   support\n",
      "\n",
      "           0     0.8992    0.9065    0.9028       246\n",
      "           1     0.8222    0.7872    0.8043       141\n",
      "           2     0.8372    0.9231    0.8780        39\n",
      "\n",
      "    accuracy                         0.8685       426\n",
      "   macro avg     0.8529    0.8723    0.8617       426\n",
      "weighted avg     0.8680    0.8685    0.8680       426\n",
      "\n",
      "0.8959379600281547\n"
     ]
    }
   ],
   "source": [
    "print(rep)\n",
    "print(auc)"
   ]
  },
  {
   "cell_type": "code",
   "execution_count": 32,
   "id": "f0b5c647",
   "metadata": {},
   "outputs": [
    {
     "data": {
      "text/plain": [
       "RandomForestClassifier(random_state=42)"
      ]
     },
     "execution_count": 32,
     "metadata": {},
     "output_type": "execute_result"
    }
   ],
   "source": [
    "from sklearn.ensemble import RandomForestClassifier\n",
    "RF = RandomForestClassifier(random_state=42)\n",
    "RF.fit(X_train,y_train)"
   ]
  },
  {
   "cell_type": "code",
   "execution_count": 33,
   "id": "94f24ad2",
   "metadata": {},
   "outputs": [],
   "source": [
    "train_y_perd = RF.predict(X_train)\n",
    "report = classification_report(y_train, train_y_perd,digits=4)\n",
    "macro_auc = roc_auc_score(pd.get_dummies(y_train), pd.get_dummies(train_y_perd), multi_class='ovr', average='macro')"
   ]
  },
  {
   "cell_type": "code",
   "execution_count": 34,
   "id": "6cafaffd",
   "metadata": {},
   "outputs": [
    {
     "name": "stdout",
     "output_type": "stream",
     "text": [
      "              precision    recall  f1-score   support\n",
      "\n",
      "           0     0.9986    1.0000    0.9993      1409\n",
      "           1     1.0000    0.9870    0.9935       154\n",
      "           2     1.0000    1.0000    1.0000       137\n",
      "\n",
      "    accuracy                         0.9988      1700\n",
      "   macro avg     0.9995    0.9957    0.9976      1700\n",
      "weighted avg     0.9988    0.9988    0.9988      1700\n",
      "\n",
      "0.9966900224632184\n"
     ]
    }
   ],
   "source": [
    "print(report)\n",
    "print(macro_auc)"
   ]
  },
  {
   "cell_type": "code",
   "execution_count": 35,
   "id": "1b115073",
   "metadata": {},
   "outputs": [],
   "source": [
    "y_pred = RF.predict(X_test)\n",
    "rep = classification_report(y_test,y_pred,digits=4)\n",
    "auc = roc_auc_score(pd.get_dummies(y_test), pd.get_dummies(y_pred), multi_class='ovr', average='macro')"
   ]
  },
  {
   "cell_type": "code",
   "execution_count": 36,
   "id": "bf03c170",
   "metadata": {},
   "outputs": [
    {
     "name": "stdout",
     "output_type": "stream",
     "text": [
      "              precision    recall  f1-score   support\n",
      "\n",
      "           0     0.8281    0.9593    0.8889       246\n",
      "           1     0.8214    0.6525    0.7273       141\n",
      "           2     0.7931    0.5897    0.6765        39\n",
      "\n",
      "    accuracy                         0.8239       426\n",
      "   macro avg     0.8142    0.7339    0.7642       426\n",
      "weighted avg     0.8227    0.8239    0.8159       426\n",
      "\n",
      "0.807278985992561\n"
     ]
    }
   ],
   "source": [
    "print(rep)\n",
    "print(auc)"
   ]
  },
  {
   "cell_type": "code",
   "execution_count": 44,
   "id": "53493f03",
   "metadata": {},
   "outputs": [
    {
     "data": {
      "text/plain": [
       "LogisticRegression(random_state=42)"
      ]
     },
     "execution_count": 44,
     "metadata": {},
     "output_type": "execute_result"
    }
   ],
   "source": [
    "from sklearn.linear_model import LogisticRegression\n",
    "LR = LogisticRegression(random_state=42)\n",
    "LR.fit(X_train, y_train)"
   ]
  },
  {
   "cell_type": "code",
   "execution_count": 45,
   "id": "77e8af99",
   "metadata": {},
   "outputs": [],
   "source": [
    "train_y_perd = LR.predict(X_train)\n",
    "report = classification_report(y_train, train_y_perd,digits=4)\n",
    "macro_auc = roc_auc_score(pd.get_dummies(y_train), pd.get_dummies(train_y_perd), multi_class='ovr', average='macro')"
   ]
  },
  {
   "cell_type": "code",
   "execution_count": 46,
   "id": "e8dc051f",
   "metadata": {},
   "outputs": [
    {
     "name": "stdout",
     "output_type": "stream",
     "text": [
      "              precision    recall  f1-score   support\n",
      "\n",
      "           0     0.9343    0.9886    0.9607      1409\n",
      "           1     0.6869    0.4416    0.5375       154\n",
      "           2     0.9273    0.7445    0.8259       137\n",
      "\n",
      "    accuracy                         0.9194      1700\n",
      "   macro avg     0.8495    0.7249    0.7747      1700\n",
      "weighted avg     0.9113    0.9194    0.9115      1700\n",
      "\n",
      "0.8021314249432984\n"
     ]
    }
   ],
   "source": [
    "print(report)\n",
    "print(macro_auc)"
   ]
  },
  {
   "cell_type": "code",
   "execution_count": 49,
   "id": "194855fe",
   "metadata": {},
   "outputs": [],
   "source": [
    "y_pred = LR.predict(X_test)\n",
    "rep = classification_report(y_test,y_pred,digits=4)\n",
    "auc = roc_auc_score(pd.get_dummies(y_test), pd.get_dummies(y_pred), multi_class='ovr', average='macro')"
   ]
  },
  {
   "cell_type": "code",
   "execution_count": 50,
   "id": "5e11c572",
   "metadata": {},
   "outputs": [
    {
     "name": "stdout",
     "output_type": "stream",
     "text": [
      "              precision    recall  f1-score   support\n",
      "\n",
      "           0     0.8000    0.9268    0.8588       246\n",
      "           1     0.7107    0.6099    0.6565       141\n",
      "           2     0.8500    0.4359    0.5763        39\n",
      "\n",
      "    accuracy                         0.7770       426\n",
      "   macro avg     0.7869    0.6576    0.6972       426\n",
      "weighted avg     0.7750    0.7770    0.7659       426\n",
      "\n",
      "0.7542383600015468\n"
     ]
    }
   ],
   "source": [
    "print(rep)\n",
    "print(auc)"
   ]
  },
  {
   "cell_type": "code",
   "execution_count": 51,
   "id": "a62e542a",
   "metadata": {},
   "outputs": [
    {
     "data": {
      "text/plain": [
       "SVC(kernel='linear', random_state=42)"
      ]
     },
     "execution_count": 51,
     "metadata": {},
     "output_type": "execute_result"
    }
   ],
   "source": [
    "from sklearn.svm import SVC\n",
    "SVMl = SVC(kernel='linear', random_state=42)\n",
    "SVMl.fit(X_train,y_train)"
   ]
  },
  {
   "cell_type": "code",
   "execution_count": 52,
   "id": "b03dcff8",
   "metadata": {},
   "outputs": [],
   "source": [
    "train_y_perd = SVMl.predict(X_train)\n",
    "report = classification_report(y_train, train_y_perd,digits=4)\n",
    "macro_auc = roc_auc_score(pd.get_dummies(y_train), pd.get_dummies(train_y_perd), multi_class='ovr', average='macro')"
   ]
  },
  {
   "cell_type": "code",
   "execution_count": 53,
   "id": "52918ebe",
   "metadata": {},
   "outputs": [
    {
     "name": "stdout",
     "output_type": "stream",
     "text": [
      "              precision    recall  f1-score   support\n",
      "\n",
      "           0     0.9370    0.9815    0.9588      1409\n",
      "           1     0.6571    0.4481    0.5328       154\n",
      "           2     0.9076    0.7883    0.8438       137\n",
      "\n",
      "    accuracy                         0.9176      1700\n",
      "   macro avg     0.8339    0.7393    0.7784      1700\n",
      "weighted avg     0.9093    0.9176    0.9109      1700\n",
      "\n",
      "0.8113348394412343\n"
     ]
    }
   ],
   "source": [
    "print(report)\n",
    "print(macro_auc)"
   ]
  },
  {
   "cell_type": "code",
   "execution_count": 56,
   "id": "6a3262bc",
   "metadata": {},
   "outputs": [],
   "source": [
    "y_pred = SVMl.predict(X_test)\n",
    "rep = classification_report(y_test,y_pred,digits=4)\n",
    "auc = roc_auc_score(pd.get_dummies(y_test), pd.get_dummies(y_pred), multi_class='ovr', average='macro')"
   ]
  },
  {
   "cell_type": "code",
   "execution_count": 57,
   "id": "5d21a50a",
   "metadata": {},
   "outputs": [
    {
     "name": "stdout",
     "output_type": "stream",
     "text": [
      "              precision    recall  f1-score   support\n",
      "\n",
      "           0     0.8453    0.9106    0.8767       246\n",
      "           1     0.7200    0.6383    0.6767       141\n",
      "           2     0.6667    0.6154    0.6400        39\n",
      "\n",
      "    accuracy                         0.7934       426\n",
      "   macro avg     0.7440    0.7214    0.7311       426\n",
      "weighted avg     0.7875    0.7934    0.7888       426\n",
      "\n",
      "0.7971098410260794\n"
     ]
    }
   ],
   "source": [
    "print(rep)\n",
    "print(auc)"
   ]
  },
  {
   "cell_type": "code",
   "execution_count": 58,
   "id": "bc652961",
   "metadata": {},
   "outputs": [
    {
     "data": {
      "text/plain": [
       "SVC(random_state=42)"
      ]
     },
     "execution_count": 58,
     "metadata": {},
     "output_type": "execute_result"
    }
   ],
   "source": [
    "SVMR = SVC(kernel='rbf', random_state=42)\n",
    "SVMR.fit(X_train, y_train)"
   ]
  },
  {
   "cell_type": "code",
   "execution_count": 61,
   "id": "b481a28e",
   "metadata": {},
   "outputs": [],
   "source": [
    "train_y_perd = SVMR.predict(X_train)\n",
    "report = classification_report(y_train, train_y_perd,digits=4)\n",
    "macro_auc = roc_auc_score(pd.get_dummies(y_train), pd.get_dummies(train_y_perd), multi_class='ovr', average='macro')"
   ]
  },
  {
   "cell_type": "code",
   "execution_count": 62,
   "id": "f32892c0",
   "metadata": {},
   "outputs": [
    {
     "name": "stdout",
     "output_type": "stream",
     "text": [
      "              precision    recall  f1-score   support\n",
      "\n",
      "           0     0.9419    0.9894    0.9650      1409\n",
      "           1     0.7182    0.5130    0.5985       154\n",
      "           2     0.9636    0.7737    0.8583       137\n",
      "\n",
      "    accuracy                         0.9288      1700\n",
      "   macro avg     0.8746    0.7587    0.8073      1700\n",
      "weighted avg     0.9234    0.9288    0.9232      1700\n",
      "\n",
      "0.8263200365087341\n"
     ]
    }
   ],
   "source": [
    "print(report)\n",
    "print(macro_auc)"
   ]
  },
  {
   "cell_type": "code",
   "execution_count": 63,
   "id": "b02733a7",
   "metadata": {},
   "outputs": [],
   "source": [
    "y_pred = SVMR.predict(X_test)\n",
    "rep = classification_report(y_test,y_pred,digits=4)\n",
    "auc = roc_auc_score(pd.get_dummies(y_test), pd.get_dummies(y_pred), multi_class='ovr', average='macro')"
   ]
  },
  {
   "cell_type": "code",
   "execution_count": 64,
   "id": "700cbd05",
   "metadata": {},
   "outputs": [
    {
     "name": "stdout",
     "output_type": "stream",
     "text": [
      "              precision    recall  f1-score   support\n",
      "\n",
      "           0     0.8134    0.9390    0.8717       246\n",
      "           1     0.7807    0.6312    0.6980       141\n",
      "           2     0.8929    0.6410    0.7463        39\n",
      "\n",
      "    accuracy                         0.8099       426\n",
      "   macro avg     0.8290    0.7371    0.7720       426\n",
      "weighted avg     0.8098    0.8099    0.8027       426\n",
      "\n",
      "0.8035566707256422\n"
     ]
    }
   ],
   "source": [
    "print(rep)\n",
    "print(auc)"
   ]
  },
  {
   "cell_type": "code",
   "execution_count": 65,
   "id": "9a2de5c0",
   "metadata": {},
   "outputs": [
    {
     "data": {
      "text/plain": [
       "AdaBoostClassifier(random_state=42)"
      ]
     },
     "execution_count": 65,
     "metadata": {},
     "output_type": "execute_result"
    }
   ],
   "source": [
    "from sklearn.ensemble import AdaBoostClassifier\n",
    "AdaB = AdaBoostClassifier(random_state=42)\n",
    "AdaB.fit(X_train,y_train)"
   ]
  },
  {
   "cell_type": "code",
   "execution_count": 66,
   "id": "c8a000d8",
   "metadata": {},
   "outputs": [],
   "source": [
    "train_y_perd = AdaB.predict(X_train)\n",
    "report = classification_report(y_train, train_y_perd,digits=4)\n",
    "macro_auc = roc_auc_score(pd.get_dummies(y_train), pd.get_dummies(train_y_perd), multi_class='ovr', average='macro')"
   ]
  },
  {
   "cell_type": "code",
   "execution_count": 67,
   "id": "6286f205",
   "metadata": {},
   "outputs": [
    {
     "name": "stdout",
     "output_type": "stream",
     "text": [
      "              precision    recall  f1-score   support\n",
      "\n",
      "           0     0.9623    0.9603    0.9613      1409\n",
      "           1     0.6860    0.7662    0.7239       154\n",
      "           2     0.9754    0.8686    0.9189       137\n",
      "\n",
      "    accuracy                         0.9353      1700\n",
      "   macro avg     0.8746    0.8650    0.8680      1700\n",
      "weighted avg     0.9383    0.9353    0.9364      1700\n",
      "\n",
      "0.8960205977740197\n"
     ]
    }
   ],
   "source": [
    "print(report)\n",
    "print(macro_auc)"
   ]
  },
  {
   "cell_type": "code",
   "execution_count": 68,
   "id": "09682647",
   "metadata": {},
   "outputs": [],
   "source": [
    "y_pred = AdaB.predict(X_test)\n",
    "rep = classification_report(y_test,y_pred,digits=4)\n",
    "auc = roc_auc_score(pd.get_dummies(y_test), pd.get_dummies(y_pred), multi_class='ovr', average='macro')"
   ]
  },
  {
   "cell_type": "code",
   "execution_count": 69,
   "id": "4793b532",
   "metadata": {},
   "outputs": [
    {
     "name": "stdout",
     "output_type": "stream",
     "text": [
      "              precision    recall  f1-score   support\n",
      "\n",
      "           0     0.8118    0.8943    0.8511       246\n",
      "           1     0.7956    0.7730    0.7842       141\n",
      "           2     0.9444    0.4359    0.5965        39\n",
      "\n",
      "    accuracy                         0.8122       426\n",
      "   macro avg     0.8506    0.7011    0.7439       426\n",
      "weighted avg     0.8186    0.8122    0.8056       426\n",
      "\n",
      "0.7865155162800587\n"
     ]
    }
   ],
   "source": [
    "print(rep)\n",
    "print(auc)"
   ]
  },
  {
   "cell_type": "code",
   "execution_count": 70,
   "id": "5555a116",
   "metadata": {},
   "outputs": [
    {
     "data": {
      "text/plain": [
       "KNeighborsClassifier()"
      ]
     },
     "execution_count": 70,
     "metadata": {},
     "output_type": "execute_result"
    }
   ],
   "source": [
    "from sklearn.neighbors import KNeighborsClassifier\n",
    "KNN = KNeighborsClassifier(n_neighbors=5)\n",
    "KNN.fit(X_train,y_train)"
   ]
  },
  {
   "cell_type": "code",
   "execution_count": 71,
   "id": "92679395",
   "metadata": {},
   "outputs": [],
   "source": [
    "train_y_perd = KNN.predict(X_train)\n",
    "report = classification_report(y_train, train_y_perd,digits=4)\n",
    "macro_auc = roc_auc_score(pd.get_dummies(y_train), pd.get_dummies(train_y_perd), multi_class='ovr', average='macro')"
   ]
  },
  {
   "cell_type": "code",
   "execution_count": 72,
   "id": "ca9e2e21",
   "metadata": {},
   "outputs": [
    {
     "name": "stdout",
     "output_type": "stream",
     "text": [
      "              precision    recall  f1-score   support\n",
      "\n",
      "           0     0.9569    0.9922    0.9742      1409\n",
      "           1     0.8678    0.6818    0.7636       154\n",
      "           2     0.9576    0.8248    0.8863       137\n",
      "\n",
      "    accuracy                         0.9506      1700\n",
      "   macro avg     0.9274    0.8329    0.8747      1700\n",
      "weighted avg     0.9489    0.9506    0.9481      1700\n",
      "\n",
      "0.8781309391006836\n"
     ]
    }
   ],
   "source": [
    "print(report)\n",
    "print(macro_auc)"
   ]
  },
  {
   "cell_type": "code",
   "execution_count": 73,
   "id": "839b7729",
   "metadata": {},
   "outputs": [],
   "source": [
    "y_pred = KNN.predict(X_test)\n",
    "rep = classification_report(y_test,y_pred,digits=4)\n",
    "auc = roc_auc_score(pd.get_dummies(y_test), pd.get_dummies(y_pred), multi_class='ovr', average='macro')"
   ]
  },
  {
   "cell_type": "code",
   "execution_count": 74,
   "id": "30bee1cb",
   "metadata": {},
   "outputs": [
    {
     "name": "stdout",
     "output_type": "stream",
     "text": [
      "              precision    recall  f1-score   support\n",
      "\n",
      "           0     0.7872    0.9472    0.8598       246\n",
      "           1     0.7255    0.5248    0.6091       141\n",
      "           2     0.7143    0.5128    0.5970        39\n",
      "\n",
      "    accuracy                         0.7676       426\n",
      "   macro avg     0.7423    0.6616    0.6886       426\n",
      "weighted avg     0.7601    0.7676    0.7527       426\n",
      "\n",
      "0.7526467051233797\n"
     ]
    }
   ],
   "source": [
    "print(rep)\n",
    "print(auc)"
   ]
  },
  {
   "cell_type": "code",
   "execution_count": 75,
   "id": "d1ed0285",
   "metadata": {},
   "outputs": [
    {
     "data": {
      "text/plain": [
       "GradientBoostingClassifier(random_state=42)"
      ]
     },
     "execution_count": 75,
     "metadata": {},
     "output_type": "execute_result"
    }
   ],
   "source": [
    "from sklearn.ensemble import GradientBoostingClassifier\n",
    "GBDT = GradientBoostingClassifier(random_state=42)\n",
    "GBDT.fit(X_train,y_train)"
   ]
  },
  {
   "cell_type": "code",
   "execution_count": 80,
   "id": "acdb8f2f",
   "metadata": {},
   "outputs": [],
   "source": [
    "train_y_perd = GBDT.predict(X_train)\n",
    "report = classification_report(y_train, train_y_perd,digits=4)\n",
    "macro_auc = roc_auc_score(pd.get_dummies(y_train), pd.get_dummies(train_y_perd), multi_class='ovr', average='macro')"
   ]
  },
  {
   "cell_type": "code",
   "execution_count": 81,
   "id": "8b2e6ace",
   "metadata": {},
   "outputs": [
    {
     "name": "stdout",
     "output_type": "stream",
     "text": [
      "              precision    recall  f1-score   support\n",
      "\n",
      "           0     0.9958    0.9993    0.9975      1409\n",
      "           1     0.9933    0.9610    0.9769       154\n",
      "           2     1.0000    1.0000    1.0000       137\n",
      "\n",
      "    accuracy                         0.9959      1700\n",
      "   macro avg     0.9963    0.9868    0.9915      1700\n",
      "weighted avg     0.9959    0.9959    0.9959      1700\n",
      "\n",
      "0.98984397509993\n"
     ]
    }
   ],
   "source": [
    "print(report)\n",
    "print(macro_auc)"
   ]
  },
  {
   "cell_type": "code",
   "execution_count": 82,
   "id": "bf7311c5",
   "metadata": {},
   "outputs": [],
   "source": [
    "y_pred = GBDT.predict(X_test)\n",
    "rep = classification_report(y_test,y_pred,digits=4)\n",
    "auc = roc_auc_score(pd.get_dummies(y_test), pd.get_dummies(y_pred), multi_class='ovr', average='macro')"
   ]
  },
  {
   "cell_type": "code",
   "execution_count": 83,
   "id": "933f7bb9",
   "metadata": {},
   "outputs": [
    {
     "name": "stdout",
     "output_type": "stream",
     "text": [
      "              precision    recall  f1-score   support\n",
      "\n",
      "           0     0.8800    0.8943    0.8871       246\n",
      "           1     0.8321    0.7730    0.8015       141\n",
      "           2     0.7556    0.8718    0.8095        39\n",
      "\n",
      "    accuracy                         0.8521       426\n",
      "   macro avg     0.8225    0.8464    0.8327       426\n",
      "weighted avg     0.8527    0.8521    0.8517       426\n",
      "\n",
      "0.8778116730902913\n"
     ]
    }
   ],
   "source": [
    "print(rep)\n",
    "print(auc)"
   ]
  },
  {
   "cell_type": "code",
   "execution_count": 85,
   "id": "9e5d1194",
   "metadata": {},
   "outputs": [
    {
     "name": "stderr",
     "output_type": "stream",
     "text": [
      "D:\\Anaconda\\envs\\tensorflow\\lib\\site-packages\\sklearn\\neural_network\\_multilayer_perceptron.py:696: ConvergenceWarning: Stochastic Optimizer: Maximum iterations (200) reached and the optimization hasn't converged yet.\n",
      "  ConvergenceWarning,\n"
     ]
    },
    {
     "data": {
      "text/plain": [
       "MLPClassifier(random_state=42)"
      ]
     },
     "execution_count": 85,
     "metadata": {},
     "output_type": "execute_result"
    }
   ],
   "source": [
    "from sklearn.neural_network import MLPClassifier\n",
    "MLP = MLPClassifier(random_state=42)\n",
    "MLP.fit(X_train,y_train)"
   ]
  },
  {
   "cell_type": "code",
   "execution_count": 86,
   "id": "b933b8ec",
   "metadata": {},
   "outputs": [],
   "source": [
    "train_y_perd = MLP.predict(X_train)\n",
    "report = classification_report(y_train, train_y_perd,digits=4)\n",
    "macro_auc = roc_auc_score(pd.get_dummies(y_train), pd.get_dummies(train_y_perd), multi_class='ovr', average='macro')"
   ]
  },
  {
   "cell_type": "code",
   "execution_count": 87,
   "id": "b46c03e0",
   "metadata": {},
   "outputs": [
    {
     "name": "stdout",
     "output_type": "stream",
     "text": [
      "              precision    recall  f1-score   support\n",
      "\n",
      "           0     0.9624    0.9808    0.9715      1409\n",
      "           1     0.7519    0.6494    0.6969       154\n",
      "           2     0.9313    0.8905    0.9104       137\n",
      "\n",
      "    accuracy                         0.9435      1700\n",
      "   macro avg     0.8819    0.8402    0.8596      1700\n",
      "weighted avg     0.9408    0.9435    0.9417      1700\n",
      "\n",
      "0.8846714160731651\n"
     ]
    }
   ],
   "source": [
    "print(report)\n",
    "print(macro_auc)"
   ]
  },
  {
   "cell_type": "code",
   "execution_count": 88,
   "id": "3035f128",
   "metadata": {},
   "outputs": [],
   "source": [
    "y_pred = MLP.predict(X_test)\n",
    "rep = classification_report(y_test,y_pred,digits=4)\n",
    "auc = roc_auc_score(pd.get_dummies(y_test), pd.get_dummies(y_pred), multi_class='ovr', average='macro')"
   ]
  },
  {
   "cell_type": "code",
   "execution_count": 89,
   "id": "e34eee40",
   "metadata": {},
   "outputs": [
    {
     "name": "stdout",
     "output_type": "stream",
     "text": [
      "              precision    recall  f1-score   support\n",
      "\n",
      "           0     0.8819    0.8496    0.8654       246\n",
      "           1     0.7021    0.7021    0.7021       141\n",
      "           2     0.6042    0.7436    0.6667        39\n",
      "\n",
      "    accuracy                         0.7911       426\n",
      "   macro avg     0.7294    0.7651    0.7447       426\n",
      "weighted avg     0.7969    0.7911    0.7932       426\n",
      "\n",
      "0.8238818858759736\n"
     ]
    }
   ],
   "source": [
    "print(rep)\n",
    "print(auc)"
   ]
  },
  {
   "cell_type": "code",
   "execution_count": 164,
   "id": "ac88ed5d",
   "metadata": {},
   "outputs": [],
   "source": [
    "import tensorflow as tf\n",
    "from tensorflow import keras\n",
    "from keras.utils import to_categorical\n",
    "from tensorflow.keras.models import Sequential\n",
    "from tensorflow.keras.optimizers import Adam\n",
    "\n",
    "y_train_one_hot = to_categorical(y_train, num_classes=3)\n",
    "y_test_one_hot = to_categorical(y_test, num_classes=3)\n",
    "\n",
    "ANN = Sequential([\n",
    "    tf.keras.layers.Dense(128, activation='relu', input_shape=(X_train.shape[1],)),\n",
    "    tf.keras.layers.Dense(64, activation='relu'),\n",
    "    tf.keras.layers.Dense(32, activation='relu'),\n",
    "    tf.keras.layers.Dense(3, activation='softmax')  \n",
    "])\n",
    "\n",
    "custom_optimizer = Adam(learning_rate=0.001) \n",
    "# 编译模型\n",
    "ANN.compile(optimizer=custom_optimizer,  # 优化器\n",
    "              loss='categorical_crossentropy',  # 损失函数，适用于多类别分类\n",
    "              metrics=['accuracy'])  # 评估指标"
   ]
  },
  {
   "cell_type": "code",
   "execution_count": 165,
   "id": "f31a08e1",
   "metadata": {},
   "outputs": [
    {
     "name": "stdout",
     "output_type": "stream",
     "text": [
      "Model: \"sequential_11\"\n",
      "_________________________________________________________________\n",
      " Layer (type)                Output Shape              Param #   \n",
      "=================================================================\n",
      " dense_41 (Dense)            (None, 128)               2816      \n",
      "                                                                 \n",
      " dense_42 (Dense)            (None, 64)                8256      \n",
      "                                                                 \n",
      " dense_43 (Dense)            (None, 32)                2080      \n",
      "                                                                 \n",
      " dense_44 (Dense)            (None, 3)                 99        \n",
      "                                                                 \n",
      "=================================================================\n",
      "Total params: 13,251\n",
      "Trainable params: 13,251\n",
      "Non-trainable params: 0\n",
      "_________________________________________________________________\n"
     ]
    }
   ],
   "source": [
    "ANN.summary()"
   ]
  },
  {
   "cell_type": "code",
   "execution_count": 166,
   "id": "fdf38b8c",
   "metadata": {
    "scrolled": true
   },
   "outputs": [
    {
     "name": "stdout",
     "output_type": "stream",
     "text": [
      "Epoch 1/100\n",
      "22/22 [==============================] - 1s 8ms/step - loss: 0.8284 - accuracy: 0.7816 - val_loss: 0.5794 - val_accuracy: 0.8235\n",
      "Epoch 2/100\n",
      "22/22 [==============================] - 0s 2ms/step - loss: 0.5170 - accuracy: 0.8301 - val_loss: 0.5460 - val_accuracy: 0.8235\n",
      "Epoch 3/100\n",
      "22/22 [==============================] - 0s 2ms/step - loss: 0.4022 - accuracy: 0.8449 - val_loss: 0.4283 - val_accuracy: 0.8059\n",
      "Epoch 4/100\n",
      "22/22 [==============================] - 0s 2ms/step - loss: 0.3081 - accuracy: 0.8853 - val_loss: 0.3902 - val_accuracy: 0.8676\n",
      "Epoch 5/100\n",
      "22/22 [==============================] - 0s 2ms/step - loss: 0.2584 - accuracy: 0.9015 - val_loss: 0.4278 - val_accuracy: 0.8294\n",
      "Epoch 6/100\n",
      "22/22 [==============================] - 0s 2ms/step - loss: 0.2355 - accuracy: 0.9110 - val_loss: 0.4114 - val_accuracy: 0.8176\n",
      "Epoch 7/100\n",
      "22/22 [==============================] - 0s 2ms/step - loss: 0.2224 - accuracy: 0.9110 - val_loss: 0.3872 - val_accuracy: 0.8294\n",
      "Epoch 8/100\n",
      "22/22 [==============================] - 0s 2ms/step - loss: 0.2127 - accuracy: 0.9103 - val_loss: 0.4189 - val_accuracy: 0.7941\n",
      "Epoch 9/100\n",
      "22/22 [==============================] - 0s 2ms/step - loss: 0.2038 - accuracy: 0.9169 - val_loss: 0.3797 - val_accuracy: 0.8176\n",
      "Epoch 10/100\n",
      "22/22 [==============================] - 0s 2ms/step - loss: 0.1938 - accuracy: 0.9265 - val_loss: 0.3770 - val_accuracy: 0.8088\n",
      "Epoch 11/100\n",
      "22/22 [==============================] - 0s 2ms/step - loss: 0.1893 - accuracy: 0.9265 - val_loss: 0.6514 - val_accuracy: 0.7471\n",
      "Epoch 12/100\n",
      "22/22 [==============================] - 0s 2ms/step - loss: 0.1821 - accuracy: 0.9228 - val_loss: 0.5095 - val_accuracy: 0.7941\n",
      "Epoch 13/100\n",
      "22/22 [==============================] - 0s 2ms/step - loss: 0.1786 - accuracy: 0.9228 - val_loss: 0.3729 - val_accuracy: 0.8088\n",
      "Epoch 14/100\n",
      "22/22 [==============================] - 0s 2ms/step - loss: 0.1772 - accuracy: 0.9265 - val_loss: 0.3961 - val_accuracy: 0.8059\n",
      "Epoch 15/100\n",
      "22/22 [==============================] - 0s 2ms/step - loss: 0.1768 - accuracy: 0.9287 - val_loss: 0.3925 - val_accuracy: 0.8147\n",
      "Epoch 16/100\n",
      "22/22 [==============================] - 0s 2ms/step - loss: 0.1728 - accuracy: 0.9257 - val_loss: 0.7055 - val_accuracy: 0.7471\n"
     ]
    }
   ],
   "source": [
    "early_stopping = tf.keras.callbacks.EarlyStopping(monitor='val_loss', patience=3, restore_best_weights=True)\n",
    "history = ANN.fit(X_train, y_train_one_hot, epochs=100, batch_size=64, validation_split=0.2,callbacks=[early_stopping])"
   ]
  },
  {
   "cell_type": "code",
   "execution_count": 167,
   "id": "17616e8a",
   "metadata": {},
   "outputs": [
    {
     "name": "stdout",
     "output_type": "stream",
     "text": [
      "54/54 [==============================] - 0s 715us/step\n"
     ]
    }
   ],
   "source": [
    "train_y_perd = ANN.predict(X_train)\n",
    "train_y_perd = tf.argmax(train_y_perd, axis=1)  # 将概率转换为类别\n",
    "report = classification_report(y_train, train_y_perd,digits=4)\n",
    "macro_auc = roc_auc_score(pd.get_dummies(y_train), pd.get_dummies(train_y_perd), multi_class='ovr', average='macro')"
   ]
  },
  {
   "cell_type": "code",
   "execution_count": 168,
   "id": "4ae1faf5",
   "metadata": {},
   "outputs": [
    {
     "name": "stdout",
     "output_type": "stream",
     "text": [
      "              precision    recall  f1-score   support\n",
      "\n",
      "           0     0.9522    0.9475    0.9498      1409\n",
      "           1     0.5506    0.5649    0.5577       154\n",
      "           2     0.8071    0.8248    0.8159       137\n",
      "\n",
      "    accuracy                         0.9029      1700\n",
      "   macro avg     0.7700    0.7791    0.7745      1700\n",
      "weighted avg     0.9041    0.9029    0.9035      1700\n",
      "\n",
      "0.8406321793565773\n"
     ]
    }
   ],
   "source": [
    "print(report)\n",
    "print(macro_auc)"
   ]
  },
  {
   "cell_type": "code",
   "execution_count": 169,
   "id": "d36575f3",
   "metadata": {},
   "outputs": [
    {
     "name": "stdout",
     "output_type": "stream",
     "text": [
      "14/14 [==============================] - 0s 844us/step\n"
     ]
    }
   ],
   "source": [
    "y_pred = ANN.predict(X_test)\n",
    "y_pred = tf.argmax(y_pred, axis=1)  # 将概率转换为类别\n",
    "rep = classification_report(y_test,y_pred,digits=4)\n",
    "auc = roc_auc_score(pd.get_dummies(y_test), pd.get_dummies(y_pred), multi_class='ovr', average='macro')"
   ]
  },
  {
   "cell_type": "code",
   "execution_count": 170,
   "id": "ba1165ca",
   "metadata": {},
   "outputs": [
    {
     "name": "stdout",
     "output_type": "stream",
     "text": [
      "              precision    recall  f1-score   support\n",
      "\n",
      "           0     0.8707    0.9309    0.8998       246\n",
      "           1     0.8017    0.6879    0.7405       141\n",
      "           2     0.7381    0.7949    0.7654        39\n",
      "\n",
      "    accuracy                         0.8380       426\n",
      "   macro avg     0.8035    0.8046    0.8019       426\n",
      "weighted avg     0.8357    0.8380    0.8348       426\n",
      "\n",
      "0.852031029735289\n"
     ]
    }
   ],
   "source": [
    "print(rep)\n",
    "print(auc)"
   ]
  },
  {
   "cell_type": "code",
   "execution_count": 171,
   "id": "b60ede57",
   "metadata": {},
   "outputs": [
    {
     "data": {
      "image/png": "[encoded data removed]",
      "text/plain": [
       "<Figure size 640x480 with 1 Axes>"
      ]
     },
     "metadata": {},
     "output_type": "display_data"
    }
   ],
   "source": [
    "import matplotlib.pyplot as plt\n",
    "\n",
    "plt.plot(history.history['loss'], label='Training Loss')\n",
    "plt.plot(history.history['val_loss'], label='Validation Loss')\n",
    "plt.title('Training and Validation Loss')\n",
    "plt.xlabel('Epochs')\n",
    "plt.ylabel('Loss')\n",
    "plt.legend()\n",
    "plt.show()"
   ]
  },
  {
   "cell_type": "code",
   "execution_count": null,
   "id": "be22854f",
   "metadata": {},
   "outputs": [],
   "source": []
  }
 ],
 "metadata": {
  "kernelspec": {
   "display_name": "tensorflow",
   "language": "python",
   "name": "tensorflow"
  },
  "language_info": {
   "codemirror_mode": {
    "name": "ipython",
    "version": 3
   },
   "file_extension": ".py",
   "mimetype": "text/x-python",
   "name": "python",
   "nbconvert_exporter": "python",
   "pygments_lexer": "ipython3",
   "version": "3.7.12"
  }
 },
 "nbformat": 4,
 "nbformat_minor": 5
}
